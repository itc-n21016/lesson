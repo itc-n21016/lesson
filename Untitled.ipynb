{
 "cells": [
  {
   "cell_type": "markdown",
   "metadata": {},
   "source": [
    "# Chapter 3"
   ]
  },
  {
   "cell_type": "markdown",
   "metadata": {},
   "source": [
    "memo"
   ]
  },
  {
   "cell_type": "code",
   "execution_count": 1,
   "metadata": {
    "scrolled": true
   },
   "outputs": [
    {
     "name": "stdout",
     "output_type": "stream",
     "text": [
      "Hello,Wourld!\n",
      "Hello,Wourld!\n",
      "Hello,Wourld!\n",
      "Hello,Wourld!\n",
      "Hello,Wourld!\n",
      "Hello,Wourld!\n",
      "Hello,Wourld!\n",
      "Hello,Wourld!\n",
      "Hello,Wourld!\n",
      "Hello,Wourld!\n",
      "Hello,Wourld!\n",
      "Hello,Wourld!\n",
      "Hello,Wourld!\n",
      "Hello,Wourld!\n",
      "Hello,Wourld!\n",
      "Hello,Wourld!\n",
      "Hello,Wourld!\n",
      "Hello,Wourld!\n",
      "Hello,Wourld!\n",
      "Hello,Wourld!\n",
      "Hello,Wourld!\n",
      "Hello,Wourld!\n",
      "Hello,Wourld!\n",
      "Hello,Wourld!\n",
      "Hello,Wourld!\n",
      "Hello,Wourld!\n",
      "Hello,Wourld!\n",
      "Hello,Wourld!\n",
      "Hello,Wourld!\n",
      "Hello,Wourld!\n",
      "Hello,Wourld!\n",
      "Hello,Wourld!\n",
      "Hello,Wourld!\n",
      "Hello,Wourld!\n",
      "Hello,Wourld!\n",
      "Hello,Wourld!\n",
      "Hello,Wourld!\n",
      "Hello,Wourld!\n",
      "Hello,Wourld!\n",
      "Hello,Wourld!\n",
      "Hello,Wourld!\n",
      "Hello,Wourld!\n",
      "Hello,Wourld!\n",
      "Hello,Wourld!\n",
      "Hello,Wourld!\n",
      "Hello,Wourld!\n",
      "Hello,Wourld!\n",
      "Hello,Wourld!\n",
      "Hello,Wourld!\n",
      "Hello,Wourld!\n",
      "Hello,Wourld!\n",
      "Hello,Wourld!\n",
      "Hello,Wourld!\n",
      "Hello,Wourld!\n",
      "Hello,Wourld!\n",
      "Hello,Wourld!\n",
      "Hello,Wourld!\n",
      "Hello,Wourld!\n",
      "Hello,Wourld!\n",
      "Hello,Wourld!\n",
      "Hello,Wourld!\n",
      "Hello,Wourld!\n",
      "Hello,Wourld!\n",
      "Hello,Wourld!\n",
      "Hello,Wourld!\n",
      "Hello,Wourld!\n",
      "Hello,Wourld!\n",
      "Hello,Wourld!\n",
      "Hello,Wourld!\n",
      "Hello,Wourld!\n",
      "Hello,Wourld!\n",
      "Hello,Wourld!\n",
      "Hello,Wourld!\n",
      "Hello,Wourld!\n",
      "Hello,Wourld!\n",
      "Hello,Wourld!\n",
      "Hello,Wourld!\n",
      "Hello,Wourld!\n",
      "Hello,Wourld!\n",
      "Hello,Wourld!\n",
      "Hello,Wourld!\n",
      "Hello,Wourld!\n",
      "Hello,Wourld!\n",
      "Hello,Wourld!\n",
      "Hello,Wourld!\n",
      "Hello,Wourld!\n",
      "Hello,Wourld!\n",
      "Hello,Wourld!\n",
      "Hello,Wourld!\n",
      "Hello,Wourld!\n",
      "Hello,Wourld!\n",
      "Hello,Wourld!\n",
      "Hello,Wourld!\n",
      "Hello,Wourld!\n",
      "Hello,Wourld!\n",
      "Hello,Wourld!\n",
      "Hello,Wourld!\n",
      "Hello,Wourld!\n",
      "Hello,Wourld!\n",
      "Hello,Wourld!\n"
     ]
    }
   ],
   "source": [
    "for i in range(100):\n",
    "    print (\"Hello,Wourld!\")"
   ]
  },
  {
   "cell_type": "code",
   "execution_count": 2,
   "metadata": {},
   "outputs": [
    {
     "name": "stdout",
     "output_type": "stream",
     "text": [
      "Hello, Wourld!\n"
     ]
    }
   ],
   "source": [
    "# これはコメントです\n",
    "print(\"Hello, Wourld!\")"
   ]
  },
  {
   "cell_type": "code",
   "execution_count": 3,
   "metadata": {},
   "outputs": [
    {
     "name": "stdout",
     "output_type": "stream",
     "text": [
      "python\n"
     ]
    }
   ],
   "source": [
    "print(\"python\")"
   ]
  },
  {
   "cell_type": "code",
   "execution_count": 4,
   "metadata": {},
   "outputs": [
    {
     "name": "stdout",
     "output_type": "stream",
     "text": [
      "こんにちは\n"
     ]
    }
   ],
   "source": [
    "print(\"こんにちは\")"
   ]
  },
  {
   "cell_type": "code",
   "execution_count": 6,
   "metadata": {},
   "outputs": [
    {
     "name": "stdout",
     "output_type": "stream",
     "text": [
      "これは、とても、とても、とても、とても長い複数行のコードです。\n"
     ]
    }
   ],
   "source": [
    "print(\"\"\"これは、とても、とても、とても、とても長い複数行のコードです。\"\"\")"
   ]
  },
  {
   "cell_type": "code",
   "execution_count": 7,
   "metadata": {},
   "outputs": [
    {
     "name": "stdout",
     "output_type": "stream",
     "text": [
      "これは、とても、とても、とても、とても長い複数行のコードです。\n"
     ]
    }
   ],
   "source": [
    "print\\\n",
    "(\"\"\"これは、とても、とても、とても、とても長い複数行のコードです。\"\"\")"
   ]
  },
  {
   "cell_type": "code",
   "execution_count": 15,
   "metadata": {},
   "outputs": [
    {
     "name": "stdout",
     "output_type": "stream",
     "text": [
      "10.770329614269007\n"
     ]
    }
   ],
   "source": [
    "import math\n",
    "\n",
    "# 対角線の長さ\n",
    "h=4\n",
    "w=10\n",
    "d=math.sqrt(h**2 + w**2)\n",
    "\n",
    "print(d)"
   ]
  },
  {
   "cell_type": "code",
   "execution_count": 17,
   "metadata": {
    "scrolled": true
   },
   "outputs": [
    {
     "ename": "SyntaxError",
     "evalue": "invalid syntax (<ipython-input-17-9eaa0d8d753f>, line 1)",
     "output_type": "error",
     "traceback": [
      "\u001b[0;36m  File \u001b[0;32m\"<ipython-input-17-9eaa0d8d753f>\"\u001b[0;36m, line \u001b[0;32m1\u001b[0m\n\u001b[0;31m    for (100)\u001b[0m\n\u001b[0m             ^\u001b[0m\n\u001b[0;31mSyntaxError\u001b[0m\u001b[0;31m:\u001b[0m invalid syntax\n"
     ]
    }
   ],
   "source": []
  },
  {
   "cell_type": "code",
   "execution_count": 20,
   "metadata": {},
   "outputs": [
    {
     "data": {
      "text/plain": [
       "<function print>"
      ]
     },
     "execution_count": 20,
     "metadata": {},
     "output_type": "execute_result"
    }
   ],
   "source": [
    "2 + 2\n",
    "print"
   ]
  },
  {
   "cell_type": "code",
   "execution_count": 28,
   "metadata": {},
   "outputs": [
    {
     "ename": "ZeroDivisionError",
     "evalue": "division by zero",
     "output_type": "error",
     "traceback": [
      "\u001b[0;31m---------------------------------------------------------\u001b[0m",
      "\u001b[0;31mZeroDivisionError\u001b[0m       Traceback (most recent call last)",
      "\u001b[0;32m<ipython-input-28-cd759d3fcf39>\u001b[0m in \u001b[0;36m<module>\u001b[0;34m\u001b[0m\n\u001b[0;32m----> 1\u001b[0;31m \u001b[0;36m10\u001b[0m \u001b[0;34m/\u001b[0m \u001b[0;36m0\u001b[0m\u001b[0;34m\u001b[0m\u001b[0;34m\u001b[0m\u001b[0m\n\u001b[0m",
      "\u001b[0;31mZeroDivisionError\u001b[0m: division by zero"
     ]
    }
   ],
   "source": [
    "10 / 0"
   ]
  },
  {
   "cell_type": "code",
   "execution_count": 29,
   "metadata": {},
   "outputs": [
    {
     "data": {
      "text/plain": [
       "4"
      ]
     },
     "execution_count": 29,
     "metadata": {},
     "output_type": "execute_result"
    }
   ],
   "source": [
    "2+2"
   ]
  },
  {
   "cell_type": "code",
   "execution_count": 30,
   "metadata": {},
   "outputs": [
    {
     "data": {
      "text/plain": [
       "0"
      ]
     },
     "execution_count": 30,
     "metadata": {},
     "output_type": "execute_result"
    }
   ],
   "source": [
    "2-2"
   ]
  },
  {
   "cell_type": "code",
   "execution_count": 31,
   "metadata": {},
   "outputs": [
    {
     "data": {
      "text/plain": [
       "4"
      ]
     },
     "execution_count": 31,
     "metadata": {},
     "output_type": "execute_result"
    }
   ],
   "source": [
    "2*2"
   ]
  },
  {
   "cell_type": "code",
   "execution_count": 33,
   "metadata": {},
   "outputs": [
    {
     "data": {
      "text/plain": [
       "100"
      ]
     },
     "execution_count": 33,
     "metadata": {},
     "output_type": "execute_result"
    }
   ],
   "source": [
    "b=100\n",
    "b"
   ]
  },
  {
   "cell_type": "code",
   "execution_count": null,
   "metadata": {},
   "outputs": [],
   "source": []
  },
  {
   "cell_type": "code",
   "execution_count": null,
   "metadata": {},
   "outputs": [],
   "source": []
  }
 ],
 "metadata": {
  "kernelspec": {
   "display_name": "Python 3",
   "language": "python",
   "name": "python3"
  },
  "language_info": {
   "codemirror_mode": {
    "name": "ipython",
    "version": 3
   },
   "file_extension": ".py",
   "mimetype": "text/x-python",
   "name": "python",
   "nbconvert_exporter": "python",
   "pygments_lexer": "ipython3",
   "version": "3.8.5"
  }
 },
 "nbformat": 4,
 "nbformat_minor": 4
}
